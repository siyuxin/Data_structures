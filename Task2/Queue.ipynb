{
 "cells": [
  {
   "cell_type": "markdown",
   "metadata": {},
   "source": [
    "队列的实现\n",
    "\n",
    "同栈一样，队列也可以用顺序表或者链表实现。\n",
    "操作\n",
    "\n",
    "    Queue() 创建一个空的队列\n",
    "    enqueue(item) 往队列中添加一个item元素\n",
    "    dequeue() 从队列头部删除一个元素\n",
    "    is_empty() 判断一个队列是否为空\n",
    "    size() 返回队列的大小\n"
   ]
  },
  {
   "cell_type": "code",
   "execution_count": 1,
   "metadata": {},
   "outputs": [],
   "source": [
    "class Queue(object):\n",
    "    \n",
    "    def __init__(self):\n",
    "        self.items = []\n",
    "    \n",
    "    def is_empty(self):\n",
    "        \n",
    "        return self.items == []\n",
    "    \n",
    "    def enqueue(self,item):\n",
    "        \n",
    "        self.items.insert(0,item)\n",
    "        \n",
    "    def dequeue(self):\n",
    "        \n",
    "        return self.items.pop()\n",
    "    \n",
    "    def size(self):\n",
    "        \n",
    "        return len(self.items)\n",
    "    \n",
    "    "
   ]
  },
  {
   "cell_type": "code",
   "execution_count": 12,
   "metadata": {},
   "outputs": [
    {
     "data": {
      "text/plain": [
       "'hello'"
      ]
     },
     "execution_count": 12,
     "metadata": {},
     "output_type": "execute_result"
    }
   ],
   "source": [
    "# test\n",
    "q = Queue()\n",
    "\n",
    "q.enqueue('hello')\n",
    "q.enqueue('world')\n",
    "\n",
    "q.size()\n",
    "\n",
    "q.dequeue()\n"
   ]
  },
  {
   "cell_type": "code",
   "execution_count": 13,
   "metadata": {},
   "outputs": [
    {
     "data": {
      "text/plain": [
       "'world'"
      ]
     },
     "execution_count": 13,
     "metadata": {},
     "output_type": "execute_result"
    }
   ],
   "source": [
    "q.dequeue()"
   ]
  },
  {
   "cell_type": "markdown",
   "metadata": {},
   "source": [
    "双端队列\n",
    "\n",
    "双端队列（deque，全名double-ended queue），是一种具有队列和栈的性质的数据结构。\n",
    "\n",
    "双端队列中的元素可以从两端弹出，其限定插入和删除操作在表的两端进行。双端队列可以在队列任意一端入队和出队。\n",
    "\n",
    "双端队列\n",
    "操作\n",
    "\n",
    "    Deque() 创建一个空的双端队列\n",
    "    add_front(item) 从队头加入一个item元素\n",
    "    add_rear(item) 从队尾加入一个item元素\n",
    "    remove_front() 从队头删除一个item元素\n",
    "    remove_rear() 从队尾删除一个item元素\n",
    "    is_empty() 判断双端队列是否为空\n",
    "    size() 返回队列的大小\n"
   ]
  },
  {
   "cell_type": "code",
   "execution_count": 14,
   "metadata": {},
   "outputs": [],
   "source": [
    "class Deque(object):\n",
    "\n",
    "\n",
    "    \"\"\"双端队列\"\"\"\n",
    "    def __init__(self):\n",
    "        self.items = []\n",
    "\n",
    "    def is_empty(self):\n",
    "        \"\"\"判断队列是否为空\"\"\"\n",
    "        return self.items == []\n",
    "\n",
    "    def add_front(self, item):\n",
    "        \"\"\"在队头添加元素\"\"\"\n",
    "        self.items.insert(0,item)\n",
    "\n",
    "    def add_rear(self, item):\n",
    "        \"\"\"在队尾添加元素\"\"\"\n",
    "        self.items.append(item)\n",
    "\n",
    "    def remove_front(self):\n",
    "        \"\"\"从队头删除元素\"\"\"\n",
    "        return self.items.pop(0)\n",
    "\n",
    "    def remove_rear(self):\n",
    "        \"\"\"从队尾删除元素\"\"\"\n",
    "        return self.items.pop()\n",
    "\n",
    "    def size(self):\n",
    "        \"\"\"返回队列大小\"\"\"\n",
    "        return len(self.items)"
   ]
  },
  {
   "cell_type": "code",
   "execution_count": 21,
   "metadata": {},
   "outputs": [
    {
     "name": "stdout",
     "output_type": "stream",
     "text": [
      "4\n",
      "2\n",
      "1\n",
      "4\n",
      "3\n"
     ]
    }
   ],
   "source": [
    "# test\n",
    "deque = Deque()\n",
    "deque.add_front(1)\n",
    "deque.add_front(2)\n",
    "deque.add_rear(3)\n",
    "deque.add_rear(4)\n",
    "print (deque.size())\n",
    "print(deque.remove_front())\n",
    "print(deque.remove_front())\n",
    "\n",
    "print(deque.remove_rear())\n",
    "print(deque.remove_rear())"
   ]
  },
  {
   "cell_type": "markdown",
   "metadata": {},
   "source": []
  },
  {
   "cell_type": "markdown",
   "metadata": {},
   "source": []
  }
 ],
 "metadata": {
  "kernelspec": {
   "display_name": "Python 3",
   "language": "python",
   "name": "python3"
  },
  "language_info": {
   "codemirror_mode": {
    "name": "ipython",
    "version": 3
   },
   "file_extension": ".py",
   "mimetype": "text/x-python",
   "name": "python",
   "nbconvert_exporter": "python",
   "pygments_lexer": "ipython3",
   "version": "3.7.3"
  }
 },
 "nbformat": 4,
 "nbformat_minor": 2
}
