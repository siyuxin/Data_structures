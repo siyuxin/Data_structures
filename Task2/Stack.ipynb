{
 "cells": [
  {
   "cell_type": "markdown",
   "metadata": {},
   "source": [
    "## 栈\n",
    "\n",
    "栈（stack），有些地方称为堆栈，是一种容器，可存入数据元素、访问元素、删除元素，它的特点在于只能允许在容器的一端（称为栈顶端指标，英语：top）进行加入数据（英语：push）和输出数据（英语：pop）的运算。没有了位置概念，保证任何时候可以访问、删除的元素都是此前最后存入的那个元素，确定了一种默认的访问顺序。\n",
    "\n",
    "由于栈数据结构只允许在一端进行操作，因而按照后进先出（LIFO, Last In First Out）的原理运作。\n",
    "\n",
    "## 栈结构实现\n",
    "\n",
    "栈可以用顺序表实现，也可以用链表实现。\n",
    "\n",
    "## 栈的操作\n",
    "\n",
    "    Stack() 创建一个新的空栈\n",
    "    push(item) 添加一个新的元素item到栈顶\n",
    "    pop() 弹出栈顶元素\n",
    "    peek() 返回栈顶元素\n",
    "    is_empty() 判断栈是否为空\n",
    "    size() 返回栈的元素个数\n"
   ]
  },
  {
   "cell_type": "code",
   "execution_count": 1,
   "metadata": {},
   "outputs": [],
   "source": [
    "class Stack(object):\n",
    "    \n",
    "    def __init__(self):\n",
    "        self.items = []\n",
    "    \n",
    "    def is_empty(self):\n",
    "        return self.items == []\n",
    "    \n",
    "    def push(self,item):\n",
    "        self.items.append(item)\n",
    "    \n",
    "    def pop(self):\n",
    "        return self.items.pop()\n",
    "    \n",
    "    def peek(self):\n",
    "        \"\"\"返回栈顶元素\"\"\"\n",
    "        return self.items[len(self.items) -1]\n",
    "    \n",
    "    def size(self): \n",
    "        \"\"\"返回栈的大小\"\"\"\n",
    "        return len(self.items)\n",
    "    \n",
    "\n",
    "        "
   ]
  },
  {
   "cell_type": "code",
   "execution_count": 8,
   "metadata": {},
   "outputs": [
    {
     "name": "stdout",
     "output_type": "stream",
     "text": [
      "3\n",
      "itcast\n",
      "itcast\n",
      "world\n",
      "hello\n"
     ]
    }
   ],
   "source": [
    "# test\n",
    "stack = Stack()\n",
    "stack.push(\"hello\")\n",
    "stack.push(\"world\")\n",
    "stack.push(\"itcast\")\n",
    "print( stack.size())\n",
    "print(stack.peek())\n",
    "print(stack.pop())\n",
    "print(stack.pop())\n",
    "print(stack.pop())"
   ]
  },
  {
   "cell_type": "code",
   "execution_count": null,
   "metadata": {},
   "outputs": [],
   "source": []
  }
 ],
 "metadata": {
  "kernelspec": {
   "display_name": "Tensorflow",
   "language": "python",
   "name": "pycharm-3464d5c1"
  },
  "language_info": {
   "codemirror_mode": {
    "name": "ipython",
    "version": 3
   },
   "file_extension": ".py",
   "mimetype": "text/x-python",
   "name": "python",
   "nbconvert_exporter": "python",
   "pygments_lexer": "ipython3",
   "version": "3.6.7"
  }
 },
 "nbformat": 4,
 "nbformat_minor": 2
}
