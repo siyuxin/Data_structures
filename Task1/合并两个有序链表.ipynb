{
 "cells": [
  {
   "cell_type": "markdown",
   "metadata": {},
   "source": [
    "思路:\n",
    "\n",
    "先判断输入的链表是否为空的指针。如果第一个链表为空，则直接返回第二个链表；如果第二个链表为空，则直接返回第一个链表。如果两个链表都是空链表，合并的结果是得到一个空链表。\n",
    "\n",
    "两个链表都是排序好的，只需要从头遍历链表，判断当前指针，哪个链表中的值小，赋给合并链表指针"
   ]
  },
  {
   "cell_type": "code",
   "execution_count": null,
   "metadata": {},
   "outputs": [],
   "source": [
    "class Solution:\n",
    "    # 返回合并后列表\n",
    "    def Merge(self, pHead1, pHead2):\n",
    "        # write code here\n",
    "        if not pHead1:\n",
    "            return pHead2\n",
    "        if not pHead2:\n",
    "            return pHead1\n",
    "        pMergeHead = None\n",
    "        if pHead1.val < pHead2.val:\n",
    "            pMergeHead = pHead1\n",
    "            pMergeHead.next = self.Merge(pHead1.next, pHead2)\n",
    "        else:\n",
    "            pMergeHead = pHead2\n",
    "            pMergeHead.next = self.Merge(pHead1, pHead2.next)\n",
    "        return pMergeHead"
   ]
  }
 ],
 "metadata": {
  "kernelspec": {
   "display_name": "Python 3",
   "language": "python",
   "name": "python3"
  },
  "language_info": {
   "codemirror_mode": {
    "name": "ipython",
    "version": 3
   },
   "file_extension": ".py",
   "mimetype": "text/x-python",
   "name": "python",
   "nbconvert_exporter": "python",
   "pygments_lexer": "ipython3",
   "version": "3.7.3"
  }
 },
 "nbformat": 4,
 "nbformat_minor": 2
}
